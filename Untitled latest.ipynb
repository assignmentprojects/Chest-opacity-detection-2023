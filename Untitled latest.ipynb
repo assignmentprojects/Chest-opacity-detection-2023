{
 "cells": [
  {
   "cell_type": "code",
   "execution_count": 1,
   "id": "b443a1d1",
   "metadata": {},
   "outputs": [],
   "source": [
    "# Import necessary libraries\n",
    "import os\n",
    "import cv2\n",
    "import gc\n",
    "import shutil\n",
    "import numpy as np\n",
    "import pandas as pd\n",
    "from PIL import Image\n",
    "from glob import glob\n",
    "import tensorflow as tf\n",
    "from keras import layers\n",
    "from sklearn import metrics\n",
    "from tensorflow import keras\n",
    "import matplotlib.pyplot as plt\n",
    "from tensorflow.keras.models import Sequential\n",
    "from tensorflow.keras.preprocessing.image import ImageDataGenerator\n",
    "from tensorflow.keras.callbacks import EarlyStopping, ModelCheckpoint, ReduceLROnPlateau\n",
    "from tensorflow.keras.layers import Conv2D, MaxPooling2D, Flatten, Dense, Input,Dropout,BatchNormalization"
   ]
  },
  {
   "cell_type": "code",
   "execution_count": 2,
   "id": "ee1b8b26",
   "metadata": {},
   "outputs": [],
   "source": [
    "# Create a new directory for working with the data\n",
    "\n",
    "if not os.path.exists('E:/python/deep_learning_project/dataset1/datasets'):\n",
    "    os.makedirs('E:/python/deep_learning_project/dataset1/datasets') "
   ]
  },
  {
   "cell_type": "code",
   "execution_count": 3,
   "id": "a05c0343",
   "metadata": {},
   "outputs": [],
   "source": [
    "# Create a new directory for working with the data\n",
    "\n",
    "if not os.path.exists('E:/python/deep_learning_project/dataset1/datasets/training'):\n",
    "    os.makedirs('E:/python/deep_learning_project/dataset1/datasets/training') \n",
    "\n",
    "if not os.path.exists('E:/python/deep_learning_project/dataset1/datasets/testing'):\n",
    "    os.makedirs('E:/python/deep_learning_project/dataset1/datasets/testing') \n",
    "\n",
    "if not os.path.exists('E:/python/deep_learning_project/dataset1/datasets/validation'):\n",
    "    os.makedirs('E:/python/deep_learning_project/dataset1/datasets/validation') "
   ]
  },
  {
   "cell_type": "code",
   "execution_count": 4,
   "id": "72d1f9d5",
   "metadata": {},
   "outputs": [],
   "source": [
    "if not os.path.exists(\"E:/python/deep_learning_project/dataset1/datasets/training/normal\"):\n",
    "    os.makedirs(\"E:/python/deep_learning_project/dataset1/datasets/training/normal\")\n",
    "if not os.path.exists(\"E:/python/deep_learning_project/dataset1/datasets/training/sick\"):\n",
    "    os.makedirs(\"E:/python/deep_learning_project/dataset1/datasets/training/sick\")\n",
    "if not os.path.exists(\"E:/python/deep_learning_project/dataset1/datasets/testing/normal\"):\n",
    "    os.makedirs(\"E:/python/deep_learning_project/dataset1/datasets/testing/normal\")\n",
    "if not os.path.exists(\"E:/python/deep_learning_project/dataset1/datasets/testing/sick\"):\n",
    "    os.makedirs(\"E:/python/deep_learning_project/dataset1/datasets/testing/sick\")\n",
    "if not os.path.exists(\"E:/python/deep_learning_project/dataset1/datasets/validation/normal\"):\n",
    "    os.makedirs(\"E:/python/deep_learning_project/dataset1/datasets/validation/normal\")\n",
    "if not os.path.exists(\"E:/python/deep_learning_project/dataset1/datasets/validation/sick\"):\n",
    "    os.makedirs(\"E:/python/deep_learning_project/dataset1/datasets/validation/sick\")"
   ]
  },
  {
   "cell_type": "code",
   "execution_count": 5,
   "id": "29748de3",
   "metadata": {},
   "outputs": [],
   "source": [
    "# Set up the dataset paths\n",
    "#train_path = 'E:/python/deep_learning_project/dataset1/datasets/train'\n",
    "#val_path = 'dataset1/known_images/val'\n",
    "#test_path = 'dataset1/known_images/test'\n",
    "#unknown_path = 'dataset1/unknown_images'"
   ]
  },
  {
   "cell_type": "code",
   "execution_count": 6,
   "id": "9944d14a",
   "metadata": {},
   "outputs": [],
   "source": [
    "main_path  = 'E:/python/deep_learning_project/dataset1/known_images'\n",
    "images = os.listdir(main_path)\n",
    "\n",
    "normal_images = []\n",
    "sick_images = []\n",
    "\n",
    "# seperate normal images from sick images\n",
    "for image in images:\n",
    "    if image.startswith('normal'):\n",
    "        normal_images.append(image)\n",
    "    else:\n",
    "        sick_images.append(image)"
   ]
  },
  {
   "cell_type": "code",
   "execution_count": 7,
   "id": "71737fbc",
   "metadata": {},
   "outputs": [],
   "source": [
    "# perform train test and validation split for normal images\n",
    "def populate_normal_images(normal_images, path):\n",
    "    for i,img in enumerate(normal_images):\n",
    "        if i < 250:\n",
    "            shutil.copy(os.path.join(path, img),\n",
    "                      os.path.join(\"E:/python/deep_learning_project/dataset1/datasets/training/normal\", img))\n",
    "        elif i > 250 and i < (250+50):\n",
    "            shutil.copy(os.path.join(path, img),\n",
    "                      os.path.join(\"E:/python/deep_learning_project/dataset1/datasets/testing/normal\", img))\n",
    "        else:\n",
    "              if i > 364:\n",
    "                return\n",
    "              shutil.copy(os.path.join(path, img),\n",
    "                          os.path.join(\"E:/python/deep_learning_project/dataset1/datasets/validation/normal\", img))\n",
    "    return\n",
    "    \n",
    "populate_normal_images(normal_images,main_path )"
   ]
  },
  {
   "cell_type": "code",
   "execution_count": 8,
   "id": "d431c4eb",
   "metadata": {},
   "outputs": [],
   "source": [
    "# perform train test and validation split for  sick images\n",
    "def populate_sick_images(sick_images,path):\n",
    "    for i,img in enumerate(sick_images):\n",
    "        if i < 250:\n",
    "            shutil.copy(os.path.join(path, img),\n",
    "                      os.path.join(\"E:/python/deep_learning_project/dataset1/datasets/training/sick\", img))\n",
    "        elif i > 250 and i < (250+50):\n",
    "            shutil.copy(os.path.join(path, img),\n",
    "                      os.path.join(\"E:/python/deep_learning_project/dataset1/datasets/testing/sick\", img))\n",
    "        else:\n",
    "              if i > (351):\n",
    "                return\n",
    "              shutil.copy(os.path.join(path, img),\n",
    "                          os.path.join(\"E:/python/deep_learning_project/dataset1/datasets/validation/sick\", img))\n",
    "    return\n",
    "\n",
    "populate_sick_images(sick_images,main_path)"
   ]
  },
  {
   "cell_type": "code",
   "execution_count": 9,
   "id": "0538896d",
   "metadata": {},
   "outputs": [],
   "source": [
    "# Define constants\n",
    "#IMAGE_SIZE = 224\n",
    "#BATCH_SIZE = 32\n",
    "TRAIN_SIZE = 0.7\n",
    "VAL_SIZE = 0.15\n",
    "TEST_SIZE = 0.15"
   ]
  },
  {
   "cell_type": "code",
   "execution_count": null,
   "id": "385e962f",
   "metadata": {},
   "outputs": [],
   "source": []
  },
  {
   "cell_type": "code",
   "execution_count": 10,
   "id": "91901217",
   "metadata": {},
   "outputs": [],
   "source": [
    "# Split data into train, val, test\n",
    "#train_images = known_images[:int(len(known_images)*TRAIN_SIZE)]\n",
    "#val_images = known_images[int(len(known_images)*TRAIN_SIZE):int(len(known_images)*(TRAIN_SIZE+VAL_SIZE))]\n",
    "#test_images = known_images[int(len(known_images)*(TRAIN_SIZE+VAL_SIZE)):]"
   ]
  },
  {
   "cell_type": "markdown",
   "id": "69aaa28c",
   "metadata": {},
   "source": [
    "## Data Augmentation"
   ]
  },
  {
   "cell_type": "code",
   "execution_count": 17,
   "id": "355e6b8b",
   "metadata": {},
   "outputs": [],
   "source": [
    "# Define image size and batch size\n",
    "img_size = (224, 224)\n",
    "#batch_size = 16\n",
    "#EPOCHS = 10"
   ]
  },
  {
   "cell_type": "code",
   "execution_count": 12,
   "id": "275ddf1c",
   "metadata": {},
   "outputs": [],
   "source": [
    "# Define data augmentation parameters for the training set\n",
    "train_datagen = ImageDataGenerator(rescale=1./255,\n",
    "                                   rotation_range=20,\n",
    "                                   width_shift_range=0.2,\n",
    "                                   height_shift_range=0.2,\n",
    "                                   shear_range=0.2,\n",
    "                                   zoom_range=0.2,\n",
    "                                   horizontal_flip=True,\n",
    "                                   fill_mode='nearest')"
   ]
  },
  {
   "cell_type": "code",
   "execution_count": 13,
   "id": "af155cd4",
   "metadata": {},
   "outputs": [
    {
     "name": "stdout",
     "output_type": "stream",
     "text": [
      "Found 500 images belonging to 2 classes.\n"
     ]
    }
   ],
   "source": [
    "# Load the training set\n",
    "train_set = train_datagen.flow_from_directory('E:/python/deep_learning_project/dataset1/datasets/training',\n",
    "                                              target_size=(224, 224),\n",
    "                                              batch_size=32,\n",
    "                                              class_mode='binary')"
   ]
  },
  {
   "cell_type": "code",
   "execution_count": 14,
   "id": "d9bcf299",
   "metadata": {},
   "outputs": [
    {
     "name": "stdout",
     "output_type": "stream",
     "text": [
      "Found 98 images belonging to 2 classes.\n"
     ]
    }
   ],
   "source": [
    "# Load the test set\n",
    "test_set = ImageDataGenerator(rescale=1./255).flow_from_directory('E:/python/deep_learning_project/dataset1/datasets/testing',\n",
    "                                                                   #target_size=img_size,\n",
    "                                                                   target_size=(224, 224),\n",
    "                                                                   batch_size=32,\n",
    "                                                                   class_mode='binary',\n",
    "                                                                   shuffle=False)"
   ]
  },
  {
   "cell_type": "code",
   "execution_count": 15,
   "id": "56cd7d35",
   "metadata": {},
   "outputs": [
    {
     "name": "stdout",
     "output_type": "stream",
     "text": [
      "Found 117 images belonging to 2 classes.\n"
     ]
    }
   ],
   "source": [
    "# Load the validation set\n",
    "val_set = ImageDataGenerator(rescale=1./255).flow_from_directory('E:/python/deep_learning_project/dataset1/datasets/validation',\n",
    "                                                                  target_size=(224, 224),\n",
    "                                                                  batch_size=32,\n",
    "                                                                  class_mode='binary')"
   ]
  },
  {
   "cell_type": "code",
   "execution_count": 18,
   "id": "e7186545",
   "metadata": {},
   "outputs": [],
   "source": [
    "# Define the CNN architecture\n",
    "model = keras.models.Sequential()\n",
    "model.add(Conv2D(32, (3, 3), activation='relu', input_shape=(img_size[0], img_size[1], 3)))\n",
    "model.add(MaxPooling2D((2, 2)))\n",
    "model.add(Conv2D(64, (3, 3), activation='relu'))\n",
    "model.add(MaxPooling2D((2, 2)))\n",
    "model.add(Conv2D(128, (3, 3), activation='relu'))\n",
    "model.add(MaxPooling2D((2, 2)))\n",
    "model.add(Flatten())\n",
    "model.add(Dense(128, activation='relu'))\n",
    "Dropout(0.5),\n",
    "model.add(Dense(1, activation='sigmoid'))"
   ]
  },
  {
   "cell_type": "code",
   "execution_count": 19,
   "id": "8fca9b94",
   "metadata": {},
   "outputs": [],
   "source": [
    "# Compile the model\n",
    "model.compile(optimizer='adam',\n",
    "              loss='binary_crossentropy',\n",
    "              metrics=['accuracy'])"
   ]
  },
  {
   "cell_type": "code",
   "execution_count": 21,
   "id": "8e4f3600",
   "metadata": {},
   "outputs": [
    {
     "name": "stdout",
     "output_type": "stream",
     "text": [
      "Epoch 1/2\n",
      "16/16 [==============================] - 71s 4s/step - loss: 0.7058 - accuracy: 0.6280 - val_loss: 0.5769 - val_accuracy: 0.6410\n",
      "Epoch 2/2\n",
      "16/16 [==============================] - 67s 4s/step - loss: 0.4966 - accuracy: 0.7740 - val_loss: 0.5130 - val_accuracy: 0.7778\n"
     ]
    }
   ],
   "source": [
    "# Train the model and setting callbacks for our model\n",
    "early_stopping_monitor = EarlyStopping(monitor='val_accuracy', patience=10, restore_best_weights=True)\n",
    "reduce_lr_on_plateau = tf.keras.callbacks.ReduceLROnPlateau(\n",
    "    monitor='val_accuracy',\n",
    "    patience=5,\n",
    ")\n",
    "\n",
    "best_model = ModelCheckpoint('bestmodel.hdf5', monitor='val_accuracy', save_best_only=True)\n",
    "\n",
    "history = model.fit(train_set,\n",
    "           epochs= 2,\n",
    "           batch_size=32,\n",
    "           validation_data=val_set,)"
   ]
  },
  {
   "cell_type": "code",
   "execution_count": 22,
   "id": "1261ec40",
   "metadata": {},
   "outputs": [
    {
     "name": "stdout",
     "output_type": "stream",
     "text": [
      "4/4 [==============================] - 4s 851ms/step\n"
     ]
    }
   ],
   "source": [
    "# Evaluate the model on the test data\n",
    "prediction = model.predict(test_set)\n",
    "y_pred = (prediction > 0.5).astype(int)"
   ]
  },
  {
   "cell_type": "code",
   "execution_count": null,
   "id": "14a082f2",
   "metadata": {},
   "outputs": [],
   "source": []
  },
  {
   "cell_type": "code",
   "execution_count": 24,
   "id": "82559e74",
   "metadata": {},
   "outputs": [
    {
     "name": "stdout",
     "output_type": "stream",
     "text": [
      "4/4 [==============================] - 4s 830ms/step - loss: 0.6137 - accuracy: 0.6939\n",
      "4/4 [==============================] - 4s 802ms/step - loss: 0.6137 - accuracy: 0.6939\n",
      "4/4 [==============================] - 4s 808ms/step - loss: 0.6137 - accuracy: 0.6939\n",
      "4/4 [==============================] - 4s 808ms/step - loss: 0.6137 - accuracy: 0.6939\n",
      "Accuracy        : 0.6938775777816772\n",
      "Precision       : 0.6938775777816772\n",
      "Recall          : 0.6938775777816772\n",
      "F1-score        : 0.6938775777816772\n"
     ]
    }
   ],
   "source": [
    "# Evaluate the model on the test set\n",
    "test_loss, accuracy = model.evaluate(test_set)\n",
    "test_loss, precision = model.evaluate(test_set)\n",
    "test_loss, recall = model.evaluate(test_set)\n",
    "test_loss, f1score = model.evaluate(test_set)\n",
    "print('Accuracy        :',(accuracy))\n",
    "print('Precision       :',(precision))\n",
    "print('Recall          :',(recall))\n",
    "print('F1-score        :',(f1score))"
   ]
  },
  {
   "cell_type": "code",
   "execution_count": 25,
   "id": "38e5c985",
   "metadata": {},
   "outputs": [],
   "source": [
    "from sklearn.metrics import classification_report\n",
    "from sklearn.metrics import confusion_matrix\n",
    "import seaborn as sns"
   ]
  },
  {
   "cell_type": "code",
   "execution_count": 28,
   "id": "922e3fa6",
   "metadata": {},
   "outputs": [
    {
     "name": "stdout",
     "output_type": "stream",
     "text": [
      "              precision    recall  f1-score   support\n",
      "\n",
      "           0       1.00      0.62      0.77        79\n",
      "           1       0.39      1.00      0.56        19\n",
      "\n",
      "    accuracy                           0.69        98\n",
      "   macro avg       0.69      0.81      0.66        98\n",
      "weighted avg       0.88      0.69      0.73        98\n",
      "\n"
     ]
    },
    {
     "data": {
      "image/png": "[encoded data removed]",
      "text/plain": [
       "<Figure size 640x480 with 2 Axes>"
      ]
     },
     "metadata": {},
     "output_type": "display_data"
    }
   ],
   "source": [
    "def generate_classification_report(pred, test_set):\n",
    "    # Generate status classification report\n",
    "    print(classification_report(pred, test_set.classes))\n",
    "\n",
    "    # confusion matrix\n",
    "    cm_status = confusion_matrix(test_set.classes, pred)\n",
    "\n",
    "    # Plot status confusion matrix as heatmap\n",
    "    sns.heatmap(cm_status, annot=True)\n",
    "    plt.xlabel('Predicted label')\n",
    "    plt.ylabel('True label')\n",
    "    plt.show\n",
    "\n",
    "generate_classification_report(y_pred, test_set)"
   ]
  },
  {
   "cell_type": "markdown",
   "id": "96506ad9",
   "metadata": {},
   "source": [
    "## Predicting the unknown images"
   ]
  },
  {
   "cell_type": "code",
   "execution_count": 68,
   "id": "f6da7849",
   "metadata": {},
   "outputs": [
    {
     "name": "stdout",
     "output_type": "stream",
     "text": [
      "2/2 [==============================] - 2s 683ms/step\n",
      "[0 0 0 0 0 0 0 0 0 0 0 0 0 0 0 0 0 0 0 0 0 0 0 0 0 0 0 0 0 0 0 0 0 0 0 0 0\n",
      " 0 0 0 0 0 0 0 0 0 0 0 0 0]\n"
     ]
    }
   ],
   "source": [
    "# Define paths to data and load into a list\n",
    "unknown_images_path = 'E:/python/deep_learning_project/dataset1/unknown_images'\n",
    "images = os.listdir(unknown_images_path)\n",
    "unknown_images = []\n",
    "for img_sets in images:\n",
    "    unknown_image_path = f'{unknown_images_path}/{img_sets}'\n",
    "    unknown_image = tf.keras.preprocessing.image.load_img(unknown_image_path, target_size=(224, 224))\n",
    "    unknown_image = tf.keras.preprocessing.image.img_to_array(unknown_image)\n",
    "    unknown_image = np.expand_dims(unknown_image, axis=0)\n",
    "    unknown_images.append(unknown_image)\n",
    "\n",
    "# Concatenate the unknown images into an array\n",
    "unknown_images = np.concatenate(unknown_images, axis=0)\n",
    "\n",
    "# Make predictions on the unknown images\n",
    "predictions = model.predict(unknown_images)\n",
    "predictions = (predictions > 0.5).astype(int)\n",
    "\n",
    "results = []\n",
    "result_labels = []\n",
    "\n",
    "# Print the predictions\n",
    "for i, prediction in enumerate(predictions):\n",
    "    result_labels.append(f'Image {i+1}')\n",
    "    results.append(prediction[0])\n",
    "    \n",
    "classes = np.argmax(predictions, axis = 1)\n",
    "print(classes)\n",
    "\n",
    "#create results dataframe\n",
    "results_df = pd.DataFrame({'Image': result_labels, 'Prediction': results})\n",
    "\n",
    "# save the dataframe to a CSV file\n",
    "results_df.to_csv('predictions.csv', index=False)"
   ]
  },
  {
   "cell_type": "code",
   "execution_count": 65,
   "id": "602345f8",
   "metadata": {},
   "outputs": [],
   "source": [
    "def process_image(img_sets):\n",
    "    # Load an image\n",
    "    img = cv2.imread(img_sets)\n",
    "    img_filtered = cv2.GaussianBlur(img_sets, (3, 3), 0.5)\n",
    "    return results_df"
   ]
  },
  {
   "cell_type": "code",
   "execution_count": 112,
   "id": "c65d9db6",
   "metadata": {},
   "outputs": [
    {
     "name": "stdout",
     "output_type": "stream",
     "text": [
      "7/7 [==============================] - 9s 1s/step\n"
     ]
    }
   ],
   "source": [
    "# Load the dataset2 into a list\n",
    "dataset2_path = 'E:\\python\\deep_learning_project\\dataset2\\images'\n",
    "images = os.listdir(dataset2_path)\n",
    "class_images = []\n",
    "for img_sets in images:\n",
    "    dataset2_image_path = f'{dataset2_path}/{img_sets}'\n",
    "    all_dataset2_images = tf.keras.preprocessing.image.load_img(dataset2_image_path, target_size=(224, 224))\n",
    "    all_dataset2_images = tf.keras.preprocessing.image.img_to_array(all_dataset2_images)\n",
    "    all_dataset2_images = np.expand_dims(all_dataset2_images, axis=0)\n",
    "    class_images.append(all_dataset2_images)\n",
    "\n",
    "# Concatenate the unknown images into an array\n",
    "class_images = np.concatenate(class_images, axis=0)\n",
    "\n",
    "# Make predictions on the dataset2 images\n",
    "dataset2_pred = model.predict(class_images)\n",
    "dataset2_pred = (dataset2_pred > 0.5).astype(int)\n",
    "y_pred = []\n",
    "\n",
    "# Print the predictions\n",
    "for i, prediction in enumerate(dataset2_pred):\n",
    "    y_pred.append(prediction[0])"
   ]
  },
  {
   "cell_type": "code",
   "execution_count": 42,
   "id": "385b817d",
   "metadata": {},
   "outputs": [
    {
     "data": {
      "text/plain": [
       "(224,)"
      ]
     },
     "execution_count": 42,
     "metadata": {},
     "output_type": "execute_result"
    }
   ],
   "source": [
    "df = pd.read_csv('E:/python/deep_learning_project/dataset2/image_classes.csv')\n",
    "y_test=df.iloc[:, 1]\n",
    "y_test.shape"
   ]
  },
  {
   "cell_type": "code",
   "execution_count": null,
   "id": "35d8bd78",
   "metadata": {},
   "outputs": [],
   "source": [
    "# Preditions on dataset 2"
   ]
  },
  {
   "cell_type": "code",
   "execution_count": 109,
   "id": "aab07fa2",
   "metadata": {},
   "outputs": [],
   "source": [
    "def dataset2_images(path):\n",
    "  imagePaths = list(paths.list_images(path))\n",
    "  unknown_data = []\n",
    "  \n",
    "  # loop over the image paths\n",
    "  for imagePath in imagePaths:\n",
    "    image = cv2.imread(imagePath)\n",
    "    image = cv2.cvtColor(image, cv2.COLOR_BGR2RGB)\n",
    "    image = cv2.resize(image, (224, 224))\n",
    "    # Gaussian blur for smothening and removing noise in the image\n",
    "    image = cv2.Sobel(src=image, ddepth=cv2.CV_64F, dx=1, dy=1, ksize=5)\n",
    "    \n",
    "    # update the data and labels lists, respectively\n",
    "    unknown_data.append(image)\n",
    "  unknown_data = np.array(unknown_data) / 255.0\n",
    "\n",
    "  return unknown_data"
   ]
  },
  {
   "cell_type": "code",
   "execution_count": 113,
   "id": "72038e99",
   "metadata": {},
   "outputs": [
    {
     "ename": "NameError",
     "evalue": "name 'paths' is not defined",
     "output_type": "error",
     "traceback": [
      "\u001b[1;31m---------------------------------------------------------------------------\u001b[0m",
      "\u001b[1;31mNameError\u001b[0m                                 Traceback (most recent call last)",
      "Cell \u001b[1;32mIn[113], line 2\u001b[0m\n\u001b[0;32m      1\u001b[0m \u001b[38;5;66;03m# Load the data and make preditions\u001b[39;00m\n\u001b[1;32m----> 2\u001b[0m dataset2 \u001b[38;5;241m=\u001b[39m \u001b[43mdataset2_images\u001b[49m\u001b[43m(\u001b[49m\u001b[43mdataset2_path\u001b[49m\u001b[43m)\u001b[49m\n\u001b[0;32m      3\u001b[0m dataset2_predict \u001b[38;5;241m=\u001b[39m model\u001b[38;5;241m.\u001b[39mpredict(dataset2)\n\u001b[0;32m      5\u001b[0m \u001b[38;5;66;03m# Generate arg maxes for predictions\u001b[39;00m\n",
      "Cell \u001b[1;32mIn[109], line 2\u001b[0m, in \u001b[0;36mdataset2_images\u001b[1;34m(path)\u001b[0m\n\u001b[0;32m      1\u001b[0m \u001b[38;5;28;01mdef\u001b[39;00m \u001b[38;5;21mdataset2_images\u001b[39m(path):\n\u001b[1;32m----> 2\u001b[0m   imagePaths \u001b[38;5;241m=\u001b[39m \u001b[38;5;28mlist\u001b[39m(\u001b[43mpaths\u001b[49m\u001b[38;5;241m.\u001b[39mlist_images(path))\n\u001b[0;32m      3\u001b[0m   unknown_data \u001b[38;5;241m=\u001b[39m []\n\u001b[0;32m      5\u001b[0m   \u001b[38;5;66;03m# loop over the image paths\u001b[39;00m\n",
      "\u001b[1;31mNameError\u001b[0m: name 'paths' is not defined"
     ]
    }
   ],
   "source": [
    "# Load the data and make preditions\n",
    "dataset2 = dataset2_images(dataset2_path)\n",
    "dataset2_predict = model.predict(dataset2)\n",
    "\n",
    "# Generate arg maxes for predictions\n",
    "dataset2_classes = np.argmax(dataset2_predict, axis = 1)\n",
    "print(dataset2_classes)"
   ]
  }
 ],
 "metadata": {
  "kernelspec": {
   "display_name": "Python 3 (ipykernel)",
   "language": "python",
   "name": "python3"
  },
  "language_info": {
   "codemirror_mode": {
    "name": "ipython",
    "version": 3
   },
   "file_extension": ".py",
   "mimetype": "text/x-python",
   "name": "python",
   "nbconvert_exporter": "python",
   "pygments_lexer": "ipython3",
   "version": "3.10.9"
  }
 },
 "nbformat": 4,
 "nbformat_minor": 5
}
